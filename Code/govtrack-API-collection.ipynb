{
 "cells": [
  {
   "cell_type": "markdown",
   "metadata": {},
   "source": [
    "In this code, I download basic bill information for the 93rd-114th Congresses from the GovTrack API. I test out my request and processing code with the current Congress, then repeat back to the earliest year of data. I do some minor cleaning, then export the data to a csv. (To avoid requesting too much data at once, I did this in several batches; the for loops at the end of the code are functionally identical.)"
   ]
  },
  {
   "cell_type": "markdown",
   "metadata": {},
   "source": [
    "1) Test code- Download data from 114th Congress (current)"
   ]
  },
  {
   "cell_type": "code",
   "execution_count": 54,
   "metadata": {
    "collapsed": true
   },
   "outputs": [],
   "source": [
    "##Import necessary packages\n",
    "import requests\n",
    "import urllib\n",
    "import json\n",
    "from __future__ import division\n",
    "import math\n",
    "import csv"
   ]
  },
  {
   "cell_type": "code",
   "execution_count": 98,
   "metadata": {
    "collapsed": false
   },
   "outputs": [],
   "source": [
    "##Set parameters for the get request \n",
    "base_url = \"https://www.govtrack.us/api/v2/bill\"\n",
    "search_params = {\"current_status\":\"enacted_signed\", #limit to enacted bills signed by the president\n",
    "                \"format\":\"json\", #set format\n",
    "                 \"congress\":\"114\", #limit to current Congress\n",
    "                 \"limit\":\"243\", #normally 100, I checked how many bills were in this subset and changed it here \n",
    "                 \"fields\":\"current_status_date,display_number,link,sponsor_role,terms,title\"} #fields of interest"
   ]
  },
  {
   "cell_type": "code",
   "execution_count": 99,
   "metadata": {
    "collapsed": true
   },
   "outputs": [],
   "source": [
    "r = requests.get(base_url, params=search_params)"
   ]
  },
  {
   "cell_type": "code",
   "execution_count": 100,
   "metadata": {
    "collapsed": false,
    "scrolled": true
   },
   "outputs": [
    {
     "name": "stdout",
     "output_type": "stream",
     "text": [
      "https://www.govtrack.us/api/v2/bill?fields=current_status_date%2Cdisplay_number%2Clink%2Csponsor_role%2Cterms%2Ctitle%2Ccommittees&format=json&limit=243&current_status=enacted_signed&congress=114\n"
     ]
    }
   ],
   "source": [
    "print(r.url)"
   ]
  },
  {
   "cell_type": "markdown",
   "metadata": {},
   "source": [
    "2) Check and parse the text"
   ]
  },
  {
   "cell_type": "code",
   "execution_count": 94,
   "metadata": {
    "collapsed": false
   },
   "outputs": [
    {
     "data": {
      "text/plain": [
       "243"
      ]
     },
     "execution_count": 94,
     "metadata": {},
     "output_type": "execute_result"
    }
   ],
   "source": [
    "response_text = r.text\n",
    "data=json.loads(response_text) #convert response to readable text"
   ]
  },
  {
   "cell_type": "code",
   "execution_count": 95,
   "metadata": {
    "collapsed": false
   },
   "outputs": [
    {
     "data": {
      "text/plain": [
       "243"
      ]
     },
     "execution_count": 95,
     "metadata": {},
     "output_type": "execute_result"
    }
   ],
   "source": [
    "#extract the data, check that the lengths match up\n",
    "data2 = data['objects']\n",
    "len(data['objects'])\n",
    "len(data2)"
   ]
  },
  {
   "cell_type": "code",
   "execution_count": 96,
   "metadata": {
    "collapsed": false
   },
   "outputs": [],
   "source": [
    "#extract sponsor party from sponsor info dictionary\n",
    "for i in range(len(data2)):\n",
    "    data2[i]['party'] = \"\"\n",
    "    data2[i]['party'] = data2[i]['sponsor_role']['party']\n"
   ]
  },
  {
   "cell_type": "code",
   "execution_count": 97,
   "metadata": {
    "collapsed": false,
    "scrolled": true
   },
   "outputs": [],
   "source": [
    "#export the 114th Congress data\n",
    "import csv\n",
    "keys = data2[0].keys()\n",
    "with open('bills_API.csv', 'w') as output_file:\n",
    "    dict_writer = csv.DictWriter(output_file, keys)\n",
    "    dict_writer.writeheader()\n",
    "    dict_writer.writerows(data2)"
   ]
  },
  {
   "cell_type": "markdown",
   "metadata": {},
   "source": [
    "3) Repeat tested code for the remaining Congresses"
   ]
  },
  {
   "cell_type": "code",
   "execution_count": 158,
   "metadata": {
    "collapsed": false
   },
   "outputs": [
    {
     "name": "stdout",
     "output_type": "stream",
     "text": [
      "456\n",
      "841\n",
      "1125\n",
      "1421\n",
      "1664\n"
     ]
    }
   ],
   "source": [
    "alldata = [] #create a receptacle for acquired documents\n",
    "for i in range(110,115):\n",
    "    ##find out how many bills in each Congress \n",
    "    search_params[\"congress\"] = str(i) #set the Congress number to request\n",
    "    r = requests.get(base_url, params=search_params) #get request\n",
    "    response_text = r.text\n",
    "    data=json.loads(response_text) #convert\n",
    "    count = data['meta']['total_count'] #extract number of bills from metadata\n",
    "    #print(count)\n",
    "    \n",
    "    #request all bills\n",
    "    search_params[\"limit\"] = str(count) #set limit to number of bills in Congress \n",
    "    r = requests.get(base_url, params=search_params) #get request\n",
    "    response_text = r.text\n",
    "    data=json.loads(response_text) #convert\n",
    "    data2 = data['objects'] #extract data\n",
    "    #print(len(data2))\n",
    "    \n",
    "    for j in range(len(data2)): #extract sponsor party if present\n",
    "        data2[j]['party'] = \"\"\n",
    "        if data2[j]['sponsor_role'] == None:\n",
    "            data2[j]['party'] = \"NA\"\n",
    "        else:\n",
    "            data2[j]['party'] = data2[j]['sponsor_role']['party']\n",
    "        \n",
    "    alldata.extend(data2) #add new bills to full data\n",
    "    print(len(alldata))"
   ]
  },
  {
   "cell_type": "code",
   "execution_count": 125,
   "metadata": {
    "collapsed": false
   },
   "outputs": [
    {
     "name": "stdout",
     "output_type": "stream",
     "text": [
      "{'current_status_date': '2007-12-26', 'sponsor_role': {'website': 'http://www.house.gov/lowey', 'description': \"Representative for New York's 18th congressional district\", 'role_type_label': 'Representative', 'current': False, 'state': 'NY', 'leadership_title': None, 'phone': None, 'caucus': None, 'startdate': '2007-01-04', 'id': 2040, 'congress_numbers': [110], 'title_long': 'Representative', 'enddate': '2009-01-03', 'senator_rank': None, 'person': 400246, 'party': 'Democrat', 'senator_class': None, 'role_type': 'representative', 'extra': None, 'district': 18, 'title': 'Rep.'}, 'link': 'https://www.govtrack.us/congress/bills/110/hr2764', 'display_number': 'H.R. 2764', 'party': 'Republican', 'title': 'H.R. 2764 (110th): Consolidated Appropriations Act, 2008'}\n"
     ]
    }
   ],
   "source": [
    "print(alldata[0]) #check that the export worked"
   ]
  },
  {
   "cell_type": "code",
   "execution_count": 160,
   "metadata": {
    "collapsed": false
   },
   "outputs": [],
   "source": [
    "keys = alldata[0].keys() #export to CSV\n",
    "with open('bills_API.csv', 'w') as output_file:\n",
    "    dict_writer = csv.DictWriter(output_file, keys)\n",
    "    dict_writer.writeheader()\n",
    "    dict_writer.writerows(alldata)"
   ]
  },
  {
   "cell_type": "markdown",
   "metadata": {},
   "source": [
    "I downloaded the bill information in batches of 5 Congresses to keep from requesting too much data at once."
   ]
  },
  {
   "cell_type": "code",
   "execution_count": 161,
   "metadata": {
    "collapsed": false
   },
   "outputs": [
    {
     "name": "stdout",
     "output_type": "stream",
     "text": [
      "403\n",
      "1007\n",
      "1390\n",
      "1894\n",
      "2377\n"
     ]
    }
   ],
   "source": [
    "alldata = []\n",
    "for i in range(105,110):\n",
    "    #find out how many bills in each Congress \n",
    "    search_params[\"congress\"] = str(i)\n",
    "    r = requests.get(base_url, params=search_params)\n",
    "    response_text = r.text\n",
    "    data=json.loads(response_text)\n",
    "    count = data['meta']['total_count']\n",
    "    #print(count)\n",
    "    \n",
    "    #request all bills\n",
    "    search_params[\"limit\"] = str(count)\n",
    "    r = requests.get(base_url, params=search_params)\n",
    "    response_text = r.text\n",
    "    data=json.loads(response_text)\n",
    "    data2 = data['objects']\n",
    "    #print(len(data2))\n",
    "    \n",
    "    for j in range(len(data2)):\n",
    "        data2[j]['party'] = \"\"\n",
    "        if data2[j]['sponsor_role'] == None:\n",
    "            data2[j]['party'] = \"NA\"\n",
    "        else:\n",
    "            data2[j]['party'] = data2[j]['sponsor_role']['party']\n",
    "        \n",
    "    alldata.extend(data2)\n",
    "    print(len(alldata))"
   ]
  },
  {
   "cell_type": "code",
   "execution_count": 162,
   "metadata": {
    "collapsed": true
   },
   "outputs": [],
   "source": [
    "keys = alldata[0].keys()\n",
    "with open('bills0509_API.csv', 'w') as output_file:\n",
    "    dict_writer = csv.DictWriter(output_file, keys)\n",
    "    dict_writer.writeheader()\n",
    "    dict_writer.writerows(alldata)"
   ]
  },
  {
   "cell_type": "code",
   "execution_count": 163,
   "metadata": {
    "collapsed": false
   },
   "outputs": [
    {
     "name": "stdout",
     "output_type": "stream",
     "text": [
      "757\n",
      "1420\n",
      "2029\n",
      "2502\n",
      "2836\n"
     ]
    }
   ],
   "source": [
    "alldata = []\n",
    "for i in range(100,105):\n",
    "    #find out how many bills in each Congress \n",
    "    search_params[\"congress\"] = str(i)\n",
    "    r = requests.get(base_url, params=search_params)\n",
    "    response_text = r.text\n",
    "    data=json.loads(response_text)\n",
    "    count = data['meta']['total_count']\n",
    "    #print(count)\n",
    "    \n",
    "    #request all bills\n",
    "    search_params[\"limit\"] = str(count)\n",
    "    r = requests.get(base_url, params=search_params)\n",
    "    response_text = r.text\n",
    "    data=json.loads(response_text)\n",
    "    data2 = data['objects']\n",
    "    #print(len(data2))\n",
    "    \n",
    "    for j in range(len(data2)):\n",
    "        data2[j]['party'] = \"\"\n",
    "        if data2[j]['sponsor_role'] == None:\n",
    "            data2[j]['party'] = \"NA\"\n",
    "        else:\n",
    "            data2[j]['party'] = data2[j]['sponsor_role']['party']\n",
    "        \n",
    "    alldata.extend(data2)\n",
    "    print(len(alldata))"
   ]
  },
  {
   "cell_type": "code",
   "execution_count": 164,
   "metadata": {
    "collapsed": true
   },
   "outputs": [],
   "source": [
    "keys = alldata[0].keys()\n",
    "with open('bills0004_API.csv', 'w') as output_file:\n",
    "    dict_writer = csv.DictWriter(output_file, keys)\n",
    "    dict_writer.writeheader()\n",
    "    dict_writer.writerows(alldata)"
   ]
  },
  {
   "cell_type": "code",
   "execution_count": 165,
   "metadata": {
    "collapsed": false
   },
   "outputs": [
    {
     "name": "stdout",
     "output_type": "stream",
     "text": [
      "804\n",
      "1538\n",
      "2065\n",
      "2740\n",
      "3425\n"
     ]
    }
   ],
   "source": [
    "alldata = []\n",
    "for i in range(95,100):\n",
    "    #find out how many bills in each Congress \n",
    "    search_params[\"congress\"] = str(i)\n",
    "    r = requests.get(base_url, params=search_params)\n",
    "    response_text = r.text\n",
    "    data=json.loads(response_text)\n",
    "    count = data['meta']['total_count']\n",
    "    #print(count)\n",
    "    \n",
    "    #request all bills\n",
    "    search_params[\"limit\"] = str(count)\n",
    "    r = requests.get(base_url, params=search_params)\n",
    "    response_text = r.text\n",
    "    data=json.loads(response_text)\n",
    "    data2 = data['objects']\n",
    "    #print(len(data2))\n",
    "    \n",
    "    for j in range(len(data2)):\n",
    "        data2[j]['party'] = \"\"\n",
    "        if data2[j]['sponsor_role'] == None:\n",
    "            data2[j]['party'] = \"NA\"\n",
    "        else:\n",
    "            data2[j]['party'] = data2[j]['sponsor_role']['party']\n",
    "        \n",
    "    alldata.extend(data2)\n",
    "    print(len(alldata))"
   ]
  },
  {
   "cell_type": "code",
   "execution_count": 166,
   "metadata": {
    "collapsed": true
   },
   "outputs": [],
   "source": [
    "keys = alldata[0].keys()\n",
    "with open('bills9599_API.csv', 'w') as output_file:\n",
    "    dict_writer = csv.DictWriter(output_file, keys)\n",
    "    dict_writer.writeheader()\n",
    "    dict_writer.writerows(alldata)"
   ]
  },
  {
   "cell_type": "code",
   "execution_count": 167,
   "metadata": {
    "collapsed": false
   },
   "outputs": [
    {
     "name": "stdout",
     "output_type": "stream",
     "text": [
      "0\n",
      "0\n",
      "0\n",
      "767\n",
      "1487\n"
     ]
    }
   ],
   "source": [
    "alldata = []\n",
    "for i in range(90,95):\n",
    "    #find out how many bills in each Congress \n",
    "    search_params[\"congress\"] = str(i)\n",
    "    r = requests.get(base_url, params=search_params)\n",
    "    response_text = r.text\n",
    "    data=json.loads(response_text)\n",
    "    count = data['meta']['total_count']\n",
    "    #print(count)\n",
    "    \n",
    "    #request all bills\n",
    "    search_params[\"limit\"] = str(count)\n",
    "    r = requests.get(base_url, params=search_params)\n",
    "    response_text = r.text\n",
    "    data=json.loads(response_text)\n",
    "    data2 = data['objects']\n",
    "    #print(len(data2))\n",
    "    \n",
    "    for j in range(len(data2)):\n",
    "        data2[j]['party'] = \"\"\n",
    "        if data2[j]['sponsor_role'] == None:\n",
    "            data2[j]['party'] = \"NA\"\n",
    "        else:\n",
    "            data2[j]['party'] = data2[j]['sponsor_role']['party']\n",
    "        \n",
    "    alldata.extend(data2)\n",
    "    print(len(alldata))"
   ]
  },
  {
   "cell_type": "code",
   "execution_count": 169,
   "metadata": {
    "collapsed": true
   },
   "outputs": [],
   "source": [
    "keys = alldata[0].keys()\n",
    "with open('bills9394_API.csv', 'w') as output_file:\n",
    "    dict_writer = csv.DictWriter(output_file, keys)\n",
    "    dict_writer.writeheader()\n",
    "    dict_writer.writerows(alldata)"
   ]
  }
 ],
 "metadata": {
  "anaconda-cloud": {},
  "kernelspec": {
   "display_name": "Python [Root]",
   "language": "python",
   "name": "Python [Root]"
  },
  "language_info": {
   "codemirror_mode": {
    "name": "ipython",
    "version": 3
   },
   "file_extension": ".py",
   "mimetype": "text/x-python",
   "name": "python",
   "nbconvert_exporter": "python",
   "pygments_lexer": "ipython3",
   "version": "3.5.2"
  }
 },
 "nbformat": 4,
 "nbformat_minor": 0
}
